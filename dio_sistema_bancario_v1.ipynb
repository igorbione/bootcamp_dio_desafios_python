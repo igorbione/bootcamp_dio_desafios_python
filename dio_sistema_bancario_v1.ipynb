{
 "cells": [
  {
   "attachments": {},
   "cell_type": "markdown",
   "metadata": {},
   "source": [
    "# Potência Tech powered by iFood | Ciências de Dados com Python\n",
    "\n",
    "## Desafio de projeto - Criando um sistema bancário com Python"
   ]
  },
  {
   "cell_type": "code",
   "execution_count": 7,
   "metadata": {},
   "outputs": [
    {
     "name": "stdout",
     "output_type": "stream",
     "text": [
      "Valor depositado com sucesso!\n",
      "Valor sacado com sucesso!\n",
      "######Extrato########\n",
      "Depósito: R$ 1000.00\n",
      "Saque: R$ 100.00\n",
      "\n",
      "Saldo atual: R$ 900.00\n",
      "Valor sacado com sucesso!\n",
      "######Extrato########\n",
      "Depósito: R$ 1000.00\n",
      "Saque: R$ 100.00\n",
      "Saque: R$ 500.00\n",
      "\n",
      "Saldo atual: R$ 400.00\n",
      "ERRO: Você não tem saldo!\n",
      "Operação inválida: Seleciona d para Deposito, s para Saque e para Extrato e q para Sair\n"
     ]
    }
   ],
   "source": [
    "menu = \"\"\"\n",
    "[d] # Deposito\n",
    "[s] # Saque\n",
    "[e] # Extrato\n",
    "[q] # Encerrar atendimento\n",
    "\n",
    "=> \"\"\"\n",
    "\n",
    "saldo = 0\n",
    "limite = 500\n",
    "extrato = \"\"\n",
    "N_SAQUE = 0\n",
    "LIMITE_SAQUES = 3\n",
    "\n",
    "\n",
    "while True:\n",
    "\n",
    "    operacao = input(menu)\n",
    "\n",
    "    if operacao == \"d\":\n",
    "        deposito = float(input(\"Digite o valor que deseja depositar: \"))\n",
    "        if deposito > 0:\n",
    "            saldo += deposito\n",
    "            print(\"Valor depositado com sucesso!\")\n",
    "            extrato += f\"Depósito: R$ {deposito:.2f}\\n\"\n",
    "        else:\n",
    "            print(\"ERRO: Só podem ser adicionados valores maiores que zero!\")\n",
    "\n",
    "    elif operacao == \"s\":\n",
    "        saque = float(input(\"Digite o valor que deseja sacar: \"))\n",
    "\n",
    "        condicao_limite = saque > saldo\n",
    "        if condicao_limite:\n",
    "            print(\"ERRO: Você não tem saldo!\")\n",
    "\n",
    "        condicao_saque = saque > limite\n",
    "        if condicao_saque:\n",
    "            print(\"ERRO: Excedeu o limite de saque por transação de {}!\".format(limite))\n",
    "\n",
    "        condicao_n_saques = N_SAQUE >= LIMITE_SAQUES\n",
    "        if condicao_n_saques:\n",
    "            print(\"ERRO: Excedeu o limite de saque diário de {}!\".format(LIMITE_SAQUES))\n",
    "\n",
    "        if not condicao_limite and not condicao_saque and not condicao_n_saques:\n",
    "            saldo -= saque\n",
    "            print(\"Valor sacado com sucesso!\")\n",
    "            N_SAQUE += 1\n",
    "            extrato += f\"Saque: R$ {saque:.2f}\\n\"\n",
    "\n",
    "    elif operacao == \"e\":\n",
    "        print(\"######Extrato########\")\n",
    "        if extrato == \"\":\n",
    "            print(\"Não foram realizadas transações\")\n",
    "        else:\n",
    "            print(extrato)\n",
    "        print(\"Saldo atual: R$ {:.2f}\".format(saldo))\n",
    "\n",
    "    elif operacao == \"q\":\n",
    "        break\n",
    "    else:\n",
    "        print(\"Operação inválida: Seleciona d para Deposito, s para Saque e para Extrato e q para Sair\")\n"
   ]
  }
 ],
 "metadata": {
  "kernelspec": {
   "display_name": "Python 3",
   "language": "python",
   "name": "python3"
  },
  "language_info": {
   "codemirror_mode": {
    "name": "ipython",
    "version": 3
   },
   "file_extension": ".py",
   "mimetype": "text/x-python",
   "name": "python",
   "nbconvert_exporter": "python",
   "pygments_lexer": "ipython3",
   "version": "3.10.6"
  },
  "orig_nbformat": 4
 },
 "nbformat": 4,
 "nbformat_minor": 2
}
